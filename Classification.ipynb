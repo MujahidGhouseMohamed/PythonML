{
 "cells": [
  {
   "cell_type": "code",
   "execution_count": 76,
   "id": "d58ffcd5-ce7c-47ae-b10a-8a0105df8ea6",
   "metadata": {},
   "outputs": [],
   "source": [
    "import pandas as pd\n",
    "import numpy as np\n",
    "from sklearn.model_selection import train_test_split\n",
    "from sklearn.metrics import accuracy_score, mean_squared_error\n",
    "\n",
    "data = pd.read_csv('student_dropout_prediction.csv')"
   ]
  },
  {
   "cell_type": "code",
   "execution_count": 78,
   "id": "8d1109fb-cb75-4a2e-a580-5f339cac037d",
   "metadata": {},
   "outputs": [],
   "source": [
    "class CustomLogisticRegression:\n",
    "    def __init__(self, lr=0.01, epochs=1000):\n",
    "        self.lr = lr\n",
    "        self.epochs = epochs\n",
    "        self.weights = None\n",
    "    \n",
    "    def sigmoid(self, z):\n",
    "        return 1 / (1 + np.exp(-z))\n",
    "    \n",
    "    def fit(self, X, y):\n",
    "        n_samples, n_features = X.shape\n",
    "        self.weights = np.zeros(n_features)\n",
    "        for _ in range(self.epochs):\n",
    "            linear_model = np.dot(X, self.weights)\n",
    "            predictions = self.sigmoid(linear_model)\n",
    "            gradient = np.dot(X.T, (predictions - y)) / n_samples\n",
    "            self.weights -= self.lr * gradient\n",
    "    \n",
    "    def predict(self, X):\n",
    "        linear_model = np.dot(X, self.weights)\n",
    "        probabilities = self.sigmoid(linear_model)\n",
    "        return np.where(probabilities > 0.5, 1, 0)"
   ]
  },
  {
   "cell_type": "code",
   "execution_count": 80,
   "id": "8304a79d-6a6d-4403-bd6f-37df65b33477",
   "metadata": {},
   "outputs": [],
   "source": [
    "from sklearn.preprocessing import StandardScaler\n",
    "scaler = StandardScaler()\n",
    "X_class_scaled = scaler.fit_transform(X_class)\n",
    "X_class = scaler.fit_transform(data[['GPA', 'Attendance_Percentage', 'Engagement_Score', 'Previous_Suspensions']].values)\n",
    "y_class = data['Dropout_Label'].values\n",
    "\n",
    "logistic_model = CustomLogisticRegression(lr=0.1, epochs=10000)  # Adjusted parameters\n",
    "logistic_model.fit(X_class, y_class)\n",
    "class_predictions = logistic_model.predict(X_class)"
   ]
  },
  {
   "cell_type": "code",
   "execution_count": 86,
   "id": "caa95b17-2a07-4e1d-9203-a14e1f222280",
   "metadata": {},
   "outputs": [
    {
     "name": "stdout",
     "output_type": "stream",
     "text": [
      "Accuracy (Custom Logistic Regression): 0.552\n"
     ]
    }
   ],
   "source": [
    "accuracy = np.sum(class_predictions == y_class) / len(y_class)\n",
    "print(f\"Accuracy (Custom Logistic Regression): {accuracy}\")"
   ]
  },
  {
   "cell_type": "code",
   "execution_count": 83,
   "id": "e7afbb0b-c9fc-49d0-bf91-84a385395843",
   "metadata": {},
   "outputs": [
    {
     "name": "stdout",
     "output_type": "stream",
     "text": [
      "\n",
      "Sample Predicted Inputs and Outputs:\n",
      "Input: [ 1.30244516  0.79937898 -0.03187369  0.05565871] -> Predicted Output: 1\n",
      "Input: [ 0.84964125  0.05143233 -1.51043226  1.48280516] -> Predicted Output: 1\n",
      "Input: [-1.72228494 -0.26960727 -1.18347998 -0.65791451] -> Predicted Output: 0\n",
      "Input: [-0.90723791  1.27646994 -0.70967625  0.05565871] -> Predicted Output: 0\n",
      "Input: [-1.81284572 -0.30123001  1.69640161  0.76923194] -> Predicted Output: 0\n"
     ]
    }
   ],
   "source": [
    "X_pred = X_class  \n",
    "y_pred = class_predictions  \n",
    "print(\"\\nSample Predicted Inputs and Outputs:\")\n",
    "for i in range(5):  \n",
    "    print(f\"Input: {X_pred[i]} -> Predicted Output: {y_pred[i]}\")"
   ]
  },
  {
   "cell_type": "code",
   "execution_count": null,
   "id": "c73a5d23-b863-4d42-8473-5b0fab76ab96",
   "metadata": {},
   "outputs": [],
   "source": []
  }
 ],
 "metadata": {
  "kernelspec": {
   "display_name": "Python 3 (ipykernel)",
   "language": "python",
   "name": "python3"
  },
  "language_info": {
   "codemirror_mode": {
    "name": "ipython",
    "version": 3
   },
   "file_extension": ".py",
   "mimetype": "text/x-python",
   "name": "python",
   "nbconvert_exporter": "python",
   "pygments_lexer": "ipython3",
   "version": "3.12.4"
  }
 },
 "nbformat": 4,
 "nbformat_minor": 5
}
