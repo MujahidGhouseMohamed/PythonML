{
 "cells": [
  {
   "cell_type": "code",
   "execution_count": 1,
   "id": "b03e3927-67e5-49e2-aa60-05157c342041",
   "metadata": {},
   "outputs": [],
   "source": [
    "import pandas as pd\n",
    "import numpy as np\n",
    "from sklearn.model_selection import train_test_split\n",
    "from sklearn.metrics import accuracy_score, mean_squared_error\n",
    "\n",
    "data = pd.read_csv('student_dropout_prediction.csv')"
   ]
  },
  {
   "cell_type": "code",
   "execution_count": 3,
   "id": "f71b5c1a-cb1c-436d-a708-5b12900693ec",
   "metadata": {},
   "outputs": [],
   "source": [
    "class CustomPCA:\n",
    "    def __init__(self, n_components):\n",
    "        self.n_components = n_components\n",
    "        self.components = None\n",
    "        self.mean = None\n",
    "    \n",
    "    def fit(self, X):\n",
    "        self.mean = np.mean(X, axis=0)\n",
    "        X_centered = X - self.mean\n",
    "        covariance_matrix = np.cov(X_centered, rowvar=False)\n",
    "        eigenvalues, eigenvectors = np.linalg.eig(covariance_matrix)\n",
    "        sorted_indices = np.argsort(eigenvalues)[::-1]\n",
    "        self.components = eigenvectors[:, sorted_indices[:self.n_components]]\n",
    "    \n",
    "    def transform(self, X):\n",
    "        X_centered = X - self.mean\n",
    "        return np.dot(X_centered, self.components)"
   ]
  },
  {
   "cell_type": "code",
   "execution_count": 5,
   "id": "2b48c63c-b94b-4467-84da-000780bf2f7f",
   "metadata": {},
   "outputs": [],
   "source": [
    "X_clust = data[['GPA', 'Attendance_Percentage', 'Engagement_Score', 'Previous_Suspensions']]"
   ]
  },
  {
   "cell_type": "code",
   "execution_count": 7,
   "id": "2ce6cf1b-386d-4a39-996d-692c97ae2ada",
   "metadata": {},
   "outputs": [
    {
     "name": "stdout",
     "output_type": "stream",
     "text": [
      "Custom PCA Reduced Data Shape: (555, 2)\n"
     ]
    }
   ],
   "source": [
    "pca = CustomPCA(n_components=2)\n",
    "pca.fit(X_clust)\n",
    "reduced_X = pca.transform(X_clust)\n",
    "print(\"Custom PCA Reduced Data Shape:\", reduced_X.shape)"
   ]
  },
  {
   "cell_type": "code",
   "execution_count": null,
   "id": "f4d17a83-1ae9-4b11-8007-aa335c8cb635",
   "metadata": {},
   "outputs": [],
   "source": []
  }
 ],
 "metadata": {
  "kernelspec": {
   "display_name": "Python 3 (ipykernel)",
   "language": "python",
   "name": "python3"
  },
  "language_info": {
   "codemirror_mode": {
    "name": "ipython",
    "version": 3
   },
   "file_extension": ".py",
   "mimetype": "text/x-python",
   "name": "python",
   "nbconvert_exporter": "python",
   "pygments_lexer": "ipython3",
   "version": "3.12.4"
  }
 },
 "nbformat": 4,
 "nbformat_minor": 5
}
