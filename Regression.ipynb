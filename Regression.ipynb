{
 "cells": [
  {
   "cell_type": "code",
   "execution_count": 18,
   "id": "f39bb503-92bc-41db-9be9-1a2da24043ff",
   "metadata": {},
   "outputs": [],
   "source": [
    "import pandas as pd\n",
    "import numpy as np\n",
    "from sklearn.metrics import accuracy_score, mean_squared_error\n",
    "\n",
    "data = pd.read_csv('student_dropout_prediction.csv')"
   ]
  },
  {
   "cell_type": "code",
   "execution_count": 20,
   "id": "2d2a260e-f71d-449f-84bb-60f2e8dddf4d",
   "metadata": {},
   "outputs": [],
   "source": [
    "class CustomLinearRegression:\n",
    "    def __init__(self):\n",
    "        self.coefficients = None\n",
    "        self.intercept = None\n",
    "    \n",
    "    def fit(self, X, y):\n",
    "        X = np.column_stack((np.ones(X.shape[0]), X))  # Add intercept\n",
    "        beta = np.linalg.inv(X.T.dot(X)).dot(X.T).dot(y)\n",
    "        self.intercept = beta[0]\n",
    "        self.coefficients = beta[1:]\n",
    "    \n",
    "    def predict(self, X):\n",
    "        return X.dot(self.coefficients) + self.intercept"
   ]
  },
  {
   "cell_type": "code",
   "execution_count": 22,
   "id": "c413bb17-ae57-4ed8-b64e-a48194a17bf7",
   "metadata": {},
   "outputs": [],
   "source": [
    "X_reg = data[['GPA', 'Attendance_Percentage', 'Engagement_Score', 'Previous_Suspensions']].values\n",
    "y_reg = data['Dropout_Risk'].values\n",
    "\n",
    "reg_model = CustomLinearRegression()\n",
    "reg_model.fit(X_reg, y_reg)\n",
    "reg_predictions = reg_model.predict(X_reg)"
   ]
  },
  {
   "cell_type": "code",
   "execution_count": 24,
   "id": "3f104c8c-3c63-4708-b1d7-1c64a546c34f",
   "metadata": {},
   "outputs": [
    {
     "name": "stdout",
     "output_type": "stream",
     "text": [
      "Mean Squared Error (Custom Regression): 0.08222931939581171\n"
     ]
    }
   ],
   "source": [
    "mse = np.mean((y_reg - reg_predictions) ** 2)\n",
    "print(f\"Mean Squared Error (Custom Regression): {mse}\")"
   ]
  },
  {
   "cell_type": "code",
   "execution_count": 26,
   "id": "ee78cd40-baa4-431c-afdd-3f6227387b7c",
   "metadata": {},
   "outputs": [
    {
     "name": "stdout",
     "output_type": "stream",
     "text": [
      "Input: [ 2.7  94.08 13.44  0.  ] -> Predicted Output (Dropout Risk): 0.54\n",
      "Input: [ 2.06 98.07 29.94  2.  ] -> Predicted Output (Dropout Risk): 0.50\n",
      "Input: [ 3.1  73.27 35.87  1.  ] -> Predicted Output (Dropout Risk): 0.50\n",
      "Input: [ 3.07 93.95 80.44  0.  ] -> Predicted Output (Dropout Risk): 0.50\n",
      "Input: [ 2.71 50.26 27.88  1.  ] -> Predicted Output (Dropout Risk): 0.46\n"
     ]
    }
   ],
   "source": [
    "reg_predictions = reg_model.predict(X_reg)\n",
    "\n",
    "\n",
    "for i in range(5):\n",
    "    print(f\"Input: {X_reg[i]} -> Predicted Output (Dropout Risk): {reg_predictions[i]:.2f}\")"
   ]
  },
  {
   "cell_type": "code",
   "execution_count": null,
   "id": "d2b3ee01-fe36-4e68-ab86-39732a89cf29",
   "metadata": {},
   "outputs": [],
   "source": []
  }
 ],
 "metadata": {
  "kernelspec": {
   "display_name": "Python 3 (ipykernel)",
   "language": "python",
   "name": "python3"
  },
  "language_info": {
   "codemirror_mode": {
    "name": "ipython",
    "version": 3
   },
   "file_extension": ".py",
   "mimetype": "text/x-python",
   "name": "python",
   "nbconvert_exporter": "python",
   "pygments_lexer": "ipython3",
   "version": "3.12.4"
  }
 },
 "nbformat": 4,
 "nbformat_minor": 5
}
